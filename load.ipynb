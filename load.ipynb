{
 "metadata": {
  "name": "",
  "signature": "sha256:aeca6946816550df9cc2234605d0bb7e951a9e59aa08556f3a756adc267eda45"
 },
 "nbformat": 3,
 "nbformat_minor": 0,
 "worksheets": [
  {
   "cells": [
    {
     "cell_type": "code",
     "collapsed": false,
     "input": [
      "import os\n",
      "from bracket import Bracket"
     ],
     "language": "python",
     "metadata": {},
     "outputs": [],
     "prompt_number": 1
    },
    {
     "cell_type": "code",
     "collapsed": false,
     "input": [
      "INPUT_DIR = os.path.join('submissions', 'csv')"
     ],
     "language": "python",
     "metadata": {},
     "outputs": [],
     "prompt_number": 2
    },
    {
     "cell_type": "code",
     "collapsed": false,
     "input": [
      "file_names = os.listdir(INPUT_DIR)"
     ],
     "language": "python",
     "metadata": {},
     "outputs": [],
     "prompt_number": 3
    },
    {
     "cell_type": "code",
     "collapsed": false,
     "input": [
      "import bracket\n",
      "reload(bracket)\n",
      "from bracket import Bracket"
     ],
     "language": "python",
     "metadata": {},
     "outputs": [],
     "prompt_number": 4
    },
    {
     "cell_type": "markdown",
     "metadata": {},
     "source": [
      "# get all the brackets"
     ]
    },
    {
     "cell_type": "code",
     "collapsed": false,
     "input": [
      "file_names = os.listdir(INPUT_DIR)"
     ],
     "language": "python",
     "metadata": {},
     "outputs": [],
     "prompt_number": 5
    },
    {
     "cell_type": "code",
     "collapsed": false,
     "input": [
      "all_brackets = {}\n",
      "for ifile in file_names: \n",
      "    print 'processing ', ifile\n",
      "    fname = os.path.join(INPUT_DIR, ifile)\n",
      "    bracket = Bracket(fname)\n",
      "    all_brackets[ifile] = bracket\n"
     ],
     "language": "python",
     "metadata": {},
     "outputs": [
      {
       "output_type": "stream",
       "stream": "stdout",
       "text": [
        "processing  DanMorris.csv\n",
        "processing  DavidDunlop.csv\n",
        "processing "
       ]
      },
      {
       "output_type": "stream",
       "stream": "stdout",
       "text": [
        " DanielYaffe.csv\n",
        "processing  EliMenaker.csv\n",
        "processing  FarzinLalezari.csv\n",
        "processing "
       ]
      },
      {
       "output_type": "stream",
       "stream": "stdout",
       "text": [
        " ArianLalezari.csv\n",
        "processing  MattJohnson.csv\n",
        "processing  ChristopherBrown.csv\n",
        "processing "
       ]
      },
      {
       "output_type": "stream",
       "stream": "stdout",
       "text": [
        " AmerHandan.csv\n",
        "processing "
       ]
      },
      {
       "output_type": "stream",
       "stream": "stdout",
       "text": [
        " MonicaGagnon.csv\n",
        "processing  MattFrantz.csv\n",
        "processing  TiffanyAnn.csv\n",
        "processing "
       ]
      },
      {
       "output_type": "stream",
       "stream": "stdout",
       "text": [
        " RobertGarrow.csv\n",
        "processing  MichaelBlackwell-Tompkins.csv\n",
        "processing  MichalKlos.csv\n",
        "processing "
       ]
      },
      {
       "output_type": "stream",
       "stream": "stdout",
       "text": [
        " AnyaKandel.csv\n",
        "processing  NateGagnon.csv\n",
        "processing  AshleyLalezari.csv\n",
        "processing "
       ]
      },
      {
       "output_type": "stream",
       "stream": "stdout",
       "text": [
        " DavidOnne.csv\n",
        "processing  AmanAhuja.csv\n",
        "processing  ManishaDaryani.csv\n",
        "processing "
       ]
      },
      {
       "output_type": "stream",
       "stream": "stdout",
       "text": [
        " DavidMorley.csv\n",
        "processing  SandyNader.csv\n",
        "processing  SamLouis.csv\n",
        "processing "
       ]
      },
      {
       "output_type": "stream",
       "stream": "stdout",
       "text": [
        " ShireenGarrow.csv\n",
        "processing  AlexBarlow.csv\n",
        "processing  DarrenMace.csv\n",
        "processing "
       ]
      },
      {
       "output_type": "stream",
       "stream": "stdout",
       "text": [
        " AdamDyer.csv\n"
       ]
      }
     ],
     "prompt_number": 6
    },
    {
     "cell_type": "markdown",
     "metadata": {},
     "source": [
      "# Get the scoreboard"
     ]
    },
    {
     "cell_type": "code",
     "collapsed": false,
     "input": [
      "from operator import itemgetter"
     ],
     "language": "python",
     "metadata": {},
     "outputs": [],
     "prompt_number": 7
    },
    {
     "cell_type": "code",
     "collapsed": false,
     "input": [
      "all_scores = {}\n",
      "for bracket in all_brackets.itervalues():\n",
      "    k = '{} ({})'.format(bracket.name, bracket.realname)\n",
      "    all_scores[k] = bracket.score"
     ],
     "language": "python",
     "metadata": {},
     "outputs": [],
     "prompt_number": 8
    },
    {
     "cell_type": "code",
     "collapsed": false,
     "input": [
      "scorelist = sorted(all_scores.iteritems(), key=itemgetter(1), reverse=True)"
     ],
     "language": "python",
     "metadata": {},
     "outputs": [],
     "prompt_number": 9
    },
    {
     "cell_type": "code",
     "collapsed": false,
     "input": [
      "for ii in scorelist: \n",
      "    print ii"
     ],
     "language": "python",
     "metadata": {},
     "outputs": [
      {
       "output_type": "stream",
       "stream": "stdout",
       "text": [
        "('Dan Morris (Dan Morris)', 8)\n",
        "(\"Lionel Messi's PED Examiner (Matt Frantz)\", 8)\n",
        "('Shir (Shireen Garrow)', 7)\n",
        "('Nate the Great (Nate)', 7)\n",
        "('Dutch Rudder (Eli Menaker)', 7)\n",
        "('Onne (David Onne)', 6)\n",
        "('Pick from Downtown (Chris Brown)', 6)\n",
        "('Fiscal_Responsibility (Amer Handan)', 6)\n",
        "('Aman (Aman Ahuja)', 6)\n",
        "('Anya (Anya)', 6)\n",
        "('Double D (David Dunlop)', 6)\n",
        "('RGarrow (Robert Garrow)', 6)\n",
        "('Rumo ao hexa (Arian Lalezari)', 6)\n",
        "('AshLalezari (Ashley Lalezari)', 6)\n",
        "('Dusty (Dusty)', 6)\n",
        "('NostrADAMus (Adam Dyer)', 6)\n",
        "('Alex Barlow (Alex Barlow)', 6)\n",
        "('Game of Balls (Michal Klos)', 6)\n",
        "('Yaffe (Daniel Yaffe)', 5)\n",
        "('Farzin (Farzin Lalezari)', 5)\n",
        "('mehmattski (Matt Johnson)', 5)\n",
        "('MoGag might win (Monica Gagnon)', 5)\n",
        "('Tiff (Tiffany Ann Fields)', 5)\n",
        "('Djtmorley (David Morley)', 5)\n",
        "('Bosnia4Lyfe (Sandy Nader)', 4)\n",
        "('The \"Ultimate\" World Cup! (Darren Mace)', 4)\n",
        "('Slap (Manisha Daryani)', 4)\n",
        "('Ft. Lauderdale Strikers 4 Life (Sam)', 3)\n"
       ]
      }
     ],
     "prompt_number": 10
    },
    {
     "cell_type": "code",
     "collapsed": false,
     "input": [],
     "language": "python",
     "metadata": {},
     "outputs": [],
     "prompt_number": 10
    },
    {
     "cell_type": "code",
     "collapsed": false,
     "input": [],
     "language": "python",
     "metadata": {},
     "outputs": []
    }
   ],
   "metadata": {}
  }
 ]
}