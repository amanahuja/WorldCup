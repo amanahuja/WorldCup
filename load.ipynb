{
 "metadata": {
  "name": "",
  "signature": "sha256:298bf3562d277b5b83989e4654a88c18ef104525c63c62e964b023e6905643ee"
 },
 "nbformat": 3,
 "nbformat_minor": 0,
 "worksheets": []
}