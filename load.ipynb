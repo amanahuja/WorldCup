{
 "metadata": {
  "name": "",
  "signature": "sha256:989016e67affcdc0e46e5aaf9baf8bf155b96446364cda36df8a8063e4122b91"
 },
 "nbformat": 3,
 "nbformat_minor": 0,
 "worksheets": [
  {
   "cells": [
    {
     "cell_type": "code",
     "collapsed": false,
     "input": [
      "import os\n",
      "from bracket import Bracket"
     ],
     "language": "python",
     "metadata": {},
     "outputs": [],
     "prompt_number": 4
    },
    {
     "cell_type": "code",
     "collapsed": false,
     "input": [
      "INPUT_DIR = os.path.join('submissions', 'csv')"
     ],
     "language": "python",
     "metadata": {},
     "outputs": [],
     "prompt_number": 19
    },
    {
     "cell_type": "code",
     "collapsed": false,
     "input": [
      "file_names = os.listdir(INPUT_DIR)"
     ],
     "language": "python",
     "metadata": {},
     "outputs": [],
     "prompt_number": 101
    },
    {
     "cell_type": "code",
     "collapsed": false,
     "input": [
      "import bracket\n",
      "reload(bracket)\n",
      "from bracket import Bracket"
     ],
     "language": "python",
     "metadata": {},
     "outputs": [],
     "prompt_number": 102
    },
    {
     "cell_type": "markdown",
     "metadata": {},
     "source": [
      "# get all the brackets"
     ]
    },
    {
     "cell_type": "code",
     "collapsed": false,
     "input": [
      "file_names = os.listdir(INPUT_DIR)"
     ],
     "language": "python",
     "metadata": {},
     "outputs": [],
     "prompt_number": 103
    },
    {
     "cell_type": "code",
     "collapsed": false,
     "input": [
      "all_brackets = {}\n",
      "for ifile in file_names: \n",
      "    print 'processing ', ifile\n",
      "    fname = os.path.join(INPUT_DIR, ifile)\n",
      "    bracket = Bracket(fname)\n",
      "    all_brackets[ifile] = bracket\n"
     ],
     "language": "python",
     "metadata": {},
     "outputs": [
      {
       "output_type": "stream",
       "stream": "stdout",
       "text": [
        "processing  DanMorris.csv\n",
        "processing  JonasEntin.csv\n",
        "processing  DavidDunlop.csv\n",
        "processing "
       ]
      },
      {
       "output_type": "stream",
       "stream": "stdout",
       "text": [
        " DanielYaffe.csv\n",
        "processing  EliMenaker.csv\n",
        "processing  FarzinLalezari.csv\n",
        "processing "
       ]
      },
      {
       "output_type": "stream",
       "stream": "stdout",
       "text": [
        " ArianLalezari.csv\n",
        "processing  MattJohnson.csv\n",
        "processing "
       ]
      },
      {
       "output_type": "stream",
       "stream": "stdout",
       "text": [
        " ChristopherBrown.csv\n",
        "processing  AmerHandan.csv\n",
        "processing "
       ]
      },
      {
       "output_type": "stream",
       "stream": "stdout",
       "text": [
        " MonicaGagnon.csv\n",
        "processing  MattFrantz.csv\n",
        "processing  TiffanyAnn.csv\n",
        "processing "
       ]
      },
      {
       "output_type": "stream",
       "stream": "stdout",
       "text": [
        " RobertGarrow.csv\n",
        "processing  MichaelBlackwell-Tompkins.csv\n",
        "processing  MichalKlos.csv\n",
        "processing "
       ]
      },
      {
       "output_type": "stream",
       "stream": "stdout",
       "text": [
        " MattTerrito.csv\n",
        "processing  AnyaKandel.csv\n",
        "processing  NateGagnon.csv\n",
        "processing "
       ]
      },
      {
       "output_type": "stream",
       "stream": "stdout",
       "text": [
        " AshleyLalezari.csv\n",
        "processing  DavidOnne.csv\n",
        "processing "
       ]
      },
      {
       "output_type": "stream",
       "stream": "stdout",
       "text": [
        " AmanAhuja.csv\n",
        "processing  ManishaDaryani.csv\n",
        "processing  DavidMorley.csv\n",
        "processing "
       ]
      },
      {
       "output_type": "stream",
       "stream": "stdout",
       "text": [
        " SandyNader.csv\n",
        "processing  LincolnSmith.csv\n",
        "processing  SamLouis.csv\n",
        "processing  ShireenGarrow.csv\n",
        "processing "
       ]
      },
      {
       "output_type": "stream",
       "stream": "stdout",
       "text": [
        " AlexBarlow.csv\n",
        "processing  DarrenMace.csv\n",
        "processing  AdamDyer.csv\n"
       ]
      }
     ],
     "prompt_number": 132
    },
    {
     "cell_type": "markdown",
     "metadata": {},
     "source": [
      "# Get the scoreboard"
     ]
    },
    {
     "cell_type": "code",
     "collapsed": false,
     "input": [
      "from operator import itemgetter"
     ],
     "language": "python",
     "metadata": {},
     "outputs": [],
     "prompt_number": 122
    },
    {
     "cell_type": "code",
     "collapsed": false,
     "input": [
      "all_scores = {}\n",
      "for bracket in all_brackets.itervalues():\n",
      "    k = '{} ({})'.format(bracket.name, bracket.realname)\n",
      "    all_scores[k] = bracket.score"
     ],
     "language": "python",
     "metadata": {},
     "outputs": [],
     "prompt_number": 134
    },
    {
     "cell_type": "code",
     "collapsed": false,
     "input": [
      "scorelist = sorted(all_scores.iteritems(), key=itemgetter(1), reverse=True)"
     ],
     "language": "python",
     "metadata": {},
     "outputs": [],
     "prompt_number": 143
    },
    {
     "cell_type": "code",
     "collapsed": false,
     "input": [
      "for ii in scorelist: \n",
      "    print ii"
     ],
     "language": "python",
     "metadata": {},
     "outputs": [
      {
       "output_type": "stream",
       "stream": "stdout",
       "text": [
        "('Shir (Shireen Garrow)', 6)\n",
        "('rbk (jonas)', 6)\n",
        "('Rumo ao hexa (Arian Lalezari)', 6)\n",
        "('Dan Morris (Dan Morris)', 6)\n",
        "(\"Lionel Messi's PED Examiner (Matt Frantz)\", 6)\n",
        "('Dutch Rudder (Eli Menaker)', 6)\n",
        "('Onne (David Onne)', 5)\n",
        "('Pick from Downtown (Chris Brown)', 5)\n",
        "('Anya (Anya)', 5)\n",
        "('Nate the Great (Nate)', 5)\n",
        "('AshLalezari (Ashley Lalezari)', 5)\n",
        "('Dusty (Dusty)', 5)\n",
        "('NostrADAMus (Adam Dyer)', 5)\n",
        "('Game of Balls (Michal Klos)', 5)\n",
        "('Fiscal_Responsibility (Amer Handan)', 4)\n",
        "('Aman (Aman Ahuja)', 4)\n",
        "('Double D (David Dunlop)', 4)\n",
        "('RGarrow (Robert Garrow)', 4)\n",
        "('Farzin (Farzin Lalezari)', 4)\n",
        "('T-Rizzle (Territo)', 4)\n",
        "('Alex Barlow (Alex Barlow)', 4)\n",
        "('Tiff (Tiffany Ann Fields)', 4)\n",
        "('Lincoln Smith (Lincoln Smith)', 4)\n",
        "('Yaffe (Daniel Yaffe)', 3)\n",
        "('Ft. Lauderdale Strikers 4 Life (Sam)', 3)\n",
        "('mehmattski (Matt Johnson)', 3)\n",
        "('MoGag might win (Monica Gagnon)', 3)\n",
        "('The \"Ultimate\" World Cup! (Darren Mace)', 3)\n",
        "('Djtmorley (David Morley)', 3)\n",
        "('Bosnia4Lyfe (Sandy Nader)', 2)\n",
        "('Slap (Manisha Daryani)', 2)\n"
       ]
      }
     ],
     "prompt_number": 147
    },
    {
     "cell_type": "code",
     "collapsed": false,
     "input": [],
     "language": "python",
     "metadata": {},
     "outputs": []
    }
   ],
   "metadata": {}
  }
 ]
}