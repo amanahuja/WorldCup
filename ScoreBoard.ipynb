{
 "metadata": {
  "name": "",
  "signature": "sha256:5b3b8b4095760deeccc9276b064213d4cd1f0ad01ac525a2cd848c4eea482800"
 },
 "nbformat": 3,
 "nbformat_minor": 0,
 "worksheets": [
  {
   "cells": [
    {
     "cell_type": "code",
     "collapsed": false,
     "input": [
      "import os\n",
      "from bracket import Bracket"
     ],
     "language": "python",
     "metadata": {},
     "outputs": [],
     "prompt_number": 1
    },
    {
     "cell_type": "code",
     "collapsed": false,
     "input": [
      "INPUT_DIR = os.path.join('submissions', 'csv')"
     ],
     "language": "python",
     "metadata": {},
     "outputs": [],
     "prompt_number": 2
    },
    {
     "cell_type": "code",
     "collapsed": false,
     "input": [
      "file_names = os.listdir(INPUT_DIR)"
     ],
     "language": "python",
     "metadata": {},
     "outputs": [],
     "prompt_number": 3
    },
    {
     "cell_type": "code",
     "collapsed": false,
     "input": [
      "import bracket\n",
      "reload(bracket)\n",
      "from bracket import Bracket"
     ],
     "language": "python",
     "metadata": {},
     "outputs": [],
     "prompt_number": 4
    },
    {
     "cell_type": "markdown",
     "metadata": {},
     "source": [
      "# get all the brackets"
     ]
    },
    {
     "cell_type": "code",
     "collapsed": false,
     "input": [
      "file_names = os.listdir(INPUT_DIR)"
     ],
     "language": "python",
     "metadata": {},
     "outputs": [],
     "prompt_number": 5
    },
    {
     "cell_type": "code",
     "collapsed": false,
     "input": [
      "all_brackets = {}\n",
      "for ifile in file_names: \n",
      "    print 'processing ', ifile\n",
      "    fname = os.path.join(INPUT_DIR, ifile)\n",
      "    ibracket = Bracket(fname)\n",
      "    all_brackets[ifile] = ibracket\n"
     ],
     "language": "python",
     "metadata": {},
     "outputs": [
      {
       "output_type": "stream",
       "stream": "stdout",
       "text": [
        "processing  DanMorris.csv\n",
        "processing  DavidDunlop.csv\n",
        "processing "
       ]
      },
      {
       "output_type": "stream",
       "stream": "stdout",
       "text": [
        " DanielYaffe.csv\n",
        "processing  EliMenaker.csv\n",
        "processing "
       ]
      },
      {
       "output_type": "stream",
       "stream": "stdout",
       "text": [
        " FarzinLalezari.csv\n",
        "processing  ArianLalezari.csv\n",
        "processing "
       ]
      },
      {
       "output_type": "stream",
       "stream": "stdout",
       "text": [
        " MattJohnson.csv\n",
        "processing  ChristopherBrown.csv\n",
        "processing "
       ]
      },
      {
       "output_type": "stream",
       "stream": "stdout",
       "text": [
        " AmerHandan.csv\n",
        "processing "
       ]
      },
      {
       "output_type": "stream",
       "stream": "stdout",
       "text": [
        " MonicaGagnon.csv\n",
        "processing  MattFrantz.csv\n",
        "processing "
       ]
      },
      {
       "output_type": "stream",
       "stream": "stdout",
       "text": [
        " TiffanyAnn.csv\n",
        "processing  RobertGarrow.csv\n",
        "processing "
       ]
      },
      {
       "output_type": "stream",
       "stream": "stdout",
       "text": [
        " MichaelBlackwell-Tompkins.csv\n",
        "processing  MichalKlos.csv\n",
        "processing "
       ]
      },
      {
       "output_type": "stream",
       "stream": "stdout",
       "text": [
        " AnyaKandel.csv\n",
        "processing  NateGagnon.csv\n",
        "processing "
       ]
      },
      {
       "output_type": "stream",
       "stream": "stdout",
       "text": [
        " AshleyLalezari.csv\n",
        "processing  DavidOnne.csv\n",
        "processing "
       ]
      },
      {
       "output_type": "stream",
       "stream": "stdout",
       "text": [
        " AmanAhuja.csv\n",
        "processing "
       ]
      },
      {
       "output_type": "stream",
       "stream": "stdout",
       "text": [
        " ManishaDaryani.csv\n",
        "processing  DavidMorley.csv\n",
        "processing "
       ]
      },
      {
       "output_type": "stream",
       "stream": "stdout",
       "text": [
        " SandyNader.csv\n",
        "processing  SamLouis.csv\n",
        "processing "
       ]
      },
      {
       "output_type": "stream",
       "stream": "stdout",
       "text": [
        " ShireenGarrow.csv\n",
        "processing  AlexBarlow.csv\n",
        "processing "
       ]
      },
      {
       "output_type": "stream",
       "stream": "stdout",
       "text": [
        " DarrenMace.csv\n",
        "processing  AdamDyer.csv\n"
       ]
      }
     ],
     "prompt_number": 6
    },
    {
     "cell_type": "markdown",
     "metadata": {},
     "source": [
      "# Get the scoreboard"
     ]
    },
    {
     "cell_type": "code",
     "collapsed": false,
     "input": [
      "from operator import itemgetter"
     ],
     "language": "python",
     "metadata": {},
     "outputs": [],
     "prompt_number": 8
    },
    {
     "cell_type": "code",
     "collapsed": false,
     "input": [
      "all_scores = {}\n",
      "for bracket in all_brackets.itervalues():\n",
      "    k = '{} ({})'.format(bracket.name, bracket.realname)\n",
      "    all_scores[k] = bracket.score"
     ],
     "language": "python",
     "metadata": {},
     "outputs": [],
     "prompt_number": 9
    },
    {
     "cell_type": "code",
     "collapsed": false,
     "input": [
      "scorelist = sorted(all_scores.iteritems(), key=itemgetter(1), reverse=True)"
     ],
     "language": "python",
     "metadata": {},
     "outputs": [],
     "prompt_number": 10
    },
    {
     "cell_type": "code",
     "collapsed": false,
     "input": [
      "for n,s in scorelist: \n",
      "    print \"{} : {}\".format(n,s)"
     ],
     "language": "python",
     "metadata": {},
     "outputs": [
      {
       "output_type": "stream",
       "stream": "stdout",
       "text": [
        "Alex Barlow (Alex Barlow) : 320\n",
        "Djtmorley (David Morley) : 308\n",
        "Nate the Great (Nate) : 290\n",
        "Fiscal_Responsibility (Amer Handan) : 257\n",
        "Slap (Manisha Daryani) : 242\n",
        "NostrADAMus (Adam Dyer) : 239\n",
        "mehmattski (Matt Johnson) : 233\n",
        "Anya (Anya) : 229\n",
        "Dutch Rudder (Eli Menaker) : 228\n",
        "Bosnia4Lyfe (Sandy Nader) : 222\n",
        "Game of Balls (Michal Klos) : 222\n",
        "Rumo ao hexa (Arian Lalezari) : 219\n",
        "Onne (David Onne) : 212\n",
        "Aman (Aman Ahuja) : 212\n",
        "MoGag might win (Monica Gagnon) : 212\n",
        "Pick from Downtown (Chris Brown) : 207\n",
        "Lionel Messi's PED Examiner (Matt Frantz) : 197\n",
        "Dan Morris (Dan Morris) : 173\n",
        "Dusty (Dusty) : 170\n",
        "Double D (David Dunlop) : 167\n",
        "RGarrow (Robert Garrow) : 163\n",
        "Tiff (Tiffany Ann Fields) : 162\n",
        "Ft. Lauderdale Strikers 4 Life (Sam) : 161\n",
        "Farzin (Farzin Lalezari) : 159\n",
        "The \"Ultimate\" World Cup! (Darren Mace) : 154\n",
        "Yaffe (Daniel Yaffe) : 145\n",
        "AshLalezari (Ashley Lalezari) : 143\n",
        "Shir (Shireen Garrow) : 139\n"
       ]
      }
     ],
     "prompt_number": 11
    },
    {
     "cell_type": "code",
     "collapsed": false,
     "input": [
      "import pandas as pd"
     ],
     "language": "python",
     "metadata": {},
     "outputs": [],
     "prompt_number": 12
    },
    {
     "cell_type": "code",
     "collapsed": false,
     "input": [
      "pd.DataFrame(scorelist, columns = ['Bracket', 'Score'], index=range(1, len(scorelist)+1))"
     ],
     "language": "python",
     "metadata": {},
     "outputs": [
      {
       "html": [
        "<div style=\"max-height:1000px;max-width:1500px;overflow:auto;\">\n",
        "<table border=\"1\" class=\"dataframe\">\n",
        "  <thead>\n",
        "    <tr style=\"text-align: right;\">\n",
        "      <th></th>\n",
        "      <th>Bracket</th>\n",
        "      <th>Score</th>\n",
        "    </tr>\n",
        "  </thead>\n",
        "  <tbody>\n",
        "    <tr>\n",
        "      <th>1 </th>\n",
        "      <td>                 Alex Barlow (Alex Barlow)</td>\n",
        "      <td> 320</td>\n",
        "    </tr>\n",
        "    <tr>\n",
        "      <th>2 </th>\n",
        "      <td>                  Djtmorley (David Morley)</td>\n",
        "      <td> 308</td>\n",
        "    </tr>\n",
        "    <tr>\n",
        "      <th>3 </th>\n",
        "      <td>                     Nate the Great (Nate)</td>\n",
        "      <td> 290</td>\n",
        "    </tr>\n",
        "    <tr>\n",
        "      <th>4 </th>\n",
        "      <td>       Fiscal_Responsibility (Amer Handan)</td>\n",
        "      <td> 257</td>\n",
        "    </tr>\n",
        "    <tr>\n",
        "      <th>5 </th>\n",
        "      <td>                    Slap (Manisha Daryani)</td>\n",
        "      <td> 242</td>\n",
        "    </tr>\n",
        "    <tr>\n",
        "      <th>6 </th>\n",
        "      <td>                   NostrADAMus (Adam Dyer)</td>\n",
        "      <td> 239</td>\n",
        "    </tr>\n",
        "    <tr>\n",
        "      <th>7 </th>\n",
        "      <td>                 mehmattski (Matt Johnson)</td>\n",
        "      <td> 233</td>\n",
        "    </tr>\n",
        "    <tr>\n",
        "      <th>8 </th>\n",
        "      <td>                               Anya (Anya)</td>\n",
        "      <td> 229</td>\n",
        "    </tr>\n",
        "    <tr>\n",
        "      <th>9 </th>\n",
        "      <td>                Dutch Rudder (Eli Menaker)</td>\n",
        "      <td> 228</td>\n",
        "    </tr>\n",
        "    <tr>\n",
        "      <th>10</th>\n",
        "      <td>                 Bosnia4Lyfe (Sandy Nader)</td>\n",
        "      <td> 222</td>\n",
        "    </tr>\n",
        "    <tr>\n",
        "      <th>11</th>\n",
        "      <td>               Game of Balls (Michal Klos)</td>\n",
        "      <td> 222</td>\n",
        "    </tr>\n",
        "    <tr>\n",
        "      <th>12</th>\n",
        "      <td>             Rumo ao hexa (Arian Lalezari)</td>\n",
        "      <td> 219</td>\n",
        "    </tr>\n",
        "    <tr>\n",
        "      <th>13</th>\n",
        "      <td>                         Onne (David Onne)</td>\n",
        "      <td> 212</td>\n",
        "    </tr>\n",
        "    <tr>\n",
        "      <th>14</th>\n",
        "      <td>                         Aman (Aman Ahuja)</td>\n",
        "      <td> 212</td>\n",
        "    </tr>\n",
        "    <tr>\n",
        "      <th>15</th>\n",
        "      <td>           MoGag might win (Monica Gagnon)</td>\n",
        "      <td> 212</td>\n",
        "    </tr>\n",
        "    <tr>\n",
        "      <th>16</th>\n",
        "      <td>          Pick from Downtown (Chris Brown)</td>\n",
        "      <td> 207</td>\n",
        "    </tr>\n",
        "    <tr>\n",
        "      <th>17</th>\n",
        "      <td> Lionel Messi's PED Examiner (Matt Frantz)</td>\n",
        "      <td> 197</td>\n",
        "    </tr>\n",
        "    <tr>\n",
        "      <th>18</th>\n",
        "      <td>                   Dan Morris (Dan Morris)</td>\n",
        "      <td> 173</td>\n",
        "    </tr>\n",
        "    <tr>\n",
        "      <th>19</th>\n",
        "      <td>                             Dusty (Dusty)</td>\n",
        "      <td> 170</td>\n",
        "    </tr>\n",
        "    <tr>\n",
        "      <th>20</th>\n",
        "      <td>                   Double D (David Dunlop)</td>\n",
        "      <td> 167</td>\n",
        "    </tr>\n",
        "    <tr>\n",
        "      <th>21</th>\n",
        "      <td>                   RGarrow (Robert Garrow)</td>\n",
        "      <td> 163</td>\n",
        "    </tr>\n",
        "    <tr>\n",
        "      <th>22</th>\n",
        "      <td>                 Tiff (Tiffany Ann Fields)</td>\n",
        "      <td> 162</td>\n",
        "    </tr>\n",
        "    <tr>\n",
        "      <th>23</th>\n",
        "      <td>      Ft. Lauderdale Strikers 4 Life (Sam)</td>\n",
        "      <td> 161</td>\n",
        "    </tr>\n",
        "    <tr>\n",
        "      <th>24</th>\n",
        "      <td>                  Farzin (Farzin Lalezari)</td>\n",
        "      <td> 159</td>\n",
        "    </tr>\n",
        "    <tr>\n",
        "      <th>25</th>\n",
        "      <td>   The \"Ultimate\" World Cup! (Darren Mace)</td>\n",
        "      <td> 154</td>\n",
        "    </tr>\n",
        "    <tr>\n",
        "      <th>26</th>\n",
        "      <td>                      Yaffe (Daniel Yaffe)</td>\n",
        "      <td> 145</td>\n",
        "    </tr>\n",
        "    <tr>\n",
        "      <th>27</th>\n",
        "      <td>             AshLalezari (Ashley Lalezari)</td>\n",
        "      <td> 143</td>\n",
        "    </tr>\n",
        "    <tr>\n",
        "      <th>28</th>\n",
        "      <td>                     Shir (Shireen Garrow)</td>\n",
        "      <td> 139</td>\n",
        "    </tr>\n",
        "  </tbody>\n",
        "</table>\n",
        "<p>28 rows \u00d7 2 columns</p>\n",
        "</div>"
       ],
       "metadata": {},
       "output_type": "pyout",
       "prompt_number": 19,
       "text": [
        "                                      Bracket  Score\n",
        "1                   Alex Barlow (Alex Barlow)    320\n",
        "2                    Djtmorley (David Morley)    308\n",
        "3                       Nate the Great (Nate)    290\n",
        "4         Fiscal_Responsibility (Amer Handan)    257\n",
        "5                      Slap (Manisha Daryani)    242\n",
        "6                     NostrADAMus (Adam Dyer)    239\n",
        "7                   mehmattski (Matt Johnson)    233\n",
        "8                                 Anya (Anya)    229\n",
        "9                  Dutch Rudder (Eli Menaker)    228\n",
        "10                  Bosnia4Lyfe (Sandy Nader)    222\n",
        "11                Game of Balls (Michal Klos)    222\n",
        "12              Rumo ao hexa (Arian Lalezari)    219\n",
        "13                          Onne (David Onne)    212\n",
        "14                          Aman (Aman Ahuja)    212\n",
        "15            MoGag might win (Monica Gagnon)    212\n",
        "16           Pick from Downtown (Chris Brown)    207\n",
        "17  Lionel Messi's PED Examiner (Matt Frantz)    197\n",
        "18                    Dan Morris (Dan Morris)    173\n",
        "19                              Dusty (Dusty)    170\n",
        "20                    Double D (David Dunlop)    167\n",
        "21                    RGarrow (Robert Garrow)    163\n",
        "22                  Tiff (Tiffany Ann Fields)    162\n",
        "23       Ft. Lauderdale Strikers 4 Life (Sam)    161\n",
        "24                   Farzin (Farzin Lalezari)    159\n",
        "25    The \"Ultimate\" World Cup! (Darren Mace)    154\n",
        "26                       Yaffe (Daniel Yaffe)    145\n",
        "27              AshLalezari (Ashley Lalezari)    143\n",
        "28                      Shir (Shireen Garrow)    139\n",
        "\n",
        "[28 rows x 2 columns]"
       ]
      }
     ],
     "prompt_number": 19
    },
    {
     "cell_type": "code",
     "collapsed": false,
     "input": [
      "s = pd.Series(list(all_scores.viewvalues()))"
     ],
     "language": "python",
     "metadata": {},
     "outputs": [],
     "prompt_number": 12
    },
    {
     "cell_type": "code",
     "collapsed": false,
     "input": [
      "s.plot(kind='kde', bw_method=.2)"
     ],
     "language": "python",
     "metadata": {},
     "outputs": [
      {
       "metadata": {},
       "output_type": "pyout",
       "prompt_number": 13,
       "text": [
        "<matplotlib.axes.AxesSubplot at 0x49fe390>"
       ]
      },
      {
       "metadata": {},
       "output_type": "display_data",
       "png": "[encoded data removed]",
       "text": [
        "<matplotlib.figure.Figure at 0x49fadd0>"
       ]
      }
     ],
     "prompt_number": 13
    },
    {
     "cell_type": "code",
     "collapsed": false,
     "input": [
      "from datetime import datetime"
     ],
     "language": "python",
     "metadata": {},
     "outputs": [],
     "prompt_number": 14
    },
    {
     "cell_type": "code",
     "collapsed": false,
     "input": [
      "s.hist(bins=15)\n",
      "ylim(0,5)\n",
      "title('Distribution of Scores (histogram)\\n{:%b %d, %Y}'.format(datetime.today()))\n",
      "xlabel('Score')\n",
      "ylabel('Count')"
     ],
     "language": "python",
     "metadata": {},
     "outputs": [
      {
       "metadata": {},
       "output_type": "pyout",
       "prompt_number": 15,
       "text": [
        "<matplotlib.text.Text at 0x53c7250>"
       ]
      },
      {
       "metadata": {},
       "output_type": "display_data",
       "png": "[encoded data removed]",
       "text": [
        "<matplotlib.figure.Figure at 0x49fac10>"
       ]
      }
     ],
     "prompt_number": 15
    }
   ],
   "metadata": {}
  }
 ]
}