{
 "metadata": {
  "name": "",
  "signature": "sha256:7b47023d7250cd0f065ac343353519d106aba081c7dbfcb1fe1b188163c4bd80"
 },
 "nbformat": 3,
 "nbformat_minor": 0,
 "worksheets": [
  {
   "cells": [
    {
     "cell_type": "code",
     "collapsed": false,
     "input": [
      "import os\n",
      "from bracket import Bracket"
     ],
     "language": "python",
     "metadata": {},
     "outputs": [],
     "prompt_number": 1
    },
    {
     "cell_type": "code",
     "collapsed": false,
     "input": [
      "INPUT_DIR = os.path.join('submissions', 'csv')"
     ],
     "language": "python",
     "metadata": {},
     "outputs": [],
     "prompt_number": 47
    },
    {
     "cell_type": "code",
     "collapsed": false,
     "input": [
      "file_names = os.listdir(INPUT_DIR)"
     ],
     "language": "python",
     "metadata": {},
     "outputs": [],
     "prompt_number": 48
    },
    {
     "cell_type": "code",
     "collapsed": false,
     "input": [
      "import bracket\n",
      "reload(bracket)\n",
      "from bracket import Bracket"
     ],
     "language": "python",
     "metadata": {},
     "outputs": [],
     "prompt_number": 101
    },
    {
     "cell_type": "markdown",
     "metadata": {},
     "source": [
      "# get all the brackets"
     ]
    },
    {
     "cell_type": "code",
     "collapsed": false,
     "input": [
      "file_names = os.listdir(INPUT_DIR)"
     ],
     "language": "python",
     "metadata": {},
     "outputs": [],
     "prompt_number": 102
    },
    {
     "cell_type": "code",
     "collapsed": false,
     "input": [
      "all_brackets = {}\n",
      "for ifile in file_names: \n",
      "    print 'processing ', ifile\n",
      "    fname = os.path.join(INPUT_DIR, ifile)\n",
      "    ibracket = Bracket(fname)\n",
      "    all_brackets[ifile] = ibracket\n"
     ],
     "language": "python",
     "metadata": {},
     "outputs": [
      {
       "output_type": "stream",
       "stream": "stdout",
       "text": [
        "processing  DanMorris.csv\n",
        "processing  DavidDunlop.csv\n",
        "processing "
       ]
      },
      {
       "output_type": "stream",
       "stream": "stdout",
       "text": [
        " DanielYaffe.csv\n",
        "processing  EliMenaker.csv\n",
        "processing "
       ]
      },
      {
       "output_type": "stream",
       "stream": "stdout",
       "text": [
        " FarzinLalezari.csv\n",
        "processing  ArianLalezari.csv\n",
        "processing "
       ]
      },
      {
       "output_type": "stream",
       "stream": "stdout",
       "text": [
        " MattJohnson.csv\n",
        "processing  ChristopherBrown.csv\n",
        "processing "
       ]
      },
      {
       "output_type": "stream",
       "stream": "stdout",
       "text": [
        " AmerHandan.csv\n",
        "processing "
       ]
      },
      {
       "output_type": "stream",
       "stream": "stdout",
       "text": [
        " MonicaGagnon.csv\n",
        "processing  MattFrantz.csv\n",
        "processing "
       ]
      },
      {
       "output_type": "stream",
       "stream": "stdout",
       "text": [
        " TiffanyAnn.csv\n",
        "processing  RobertGarrow.csv\n",
        "processing "
       ]
      },
      {
       "output_type": "stream",
       "stream": "stdout",
       "text": [
        " MichaelBlackwell-Tompkins.csv\n",
        "processing  MichalKlos.csv\n",
        "processing "
       ]
      },
      {
       "output_type": "stream",
       "stream": "stdout",
       "text": [
        " AnyaKandel.csv\n",
        "processing  NateGagnon.csv\n",
        "processing "
       ]
      },
      {
       "output_type": "stream",
       "stream": "stdout",
       "text": [
        " AshleyLalezari.csv\n",
        "processing "
       ]
      },
      {
       "output_type": "stream",
       "stream": "stdout",
       "text": [
        " DavidOnne.csv\n",
        "processing "
       ]
      },
      {
       "output_type": "stream",
       "stream": "stdout",
       "text": [
        " AmanAhuja.csv\n",
        "processing "
       ]
      },
      {
       "output_type": "stream",
       "stream": "stdout",
       "text": [
        " ManishaDaryani.csv\n",
        "processing  DavidMorley.csv\n",
        "processing "
       ]
      },
      {
       "output_type": "stream",
       "stream": "stdout",
       "text": [
        " SandyNader.csv\n",
        "processing  SamLouis.csv\n",
        "processing "
       ]
      },
      {
       "output_type": "stream",
       "stream": "stdout",
       "text": [
        " ShireenGarrow.csv\n",
        "processing  AlexBarlow.csv\n",
        "processing "
       ]
      },
      {
       "output_type": "stream",
       "stream": "stdout",
       "text": [
        " DarrenMace.csv\n",
        "processing  AdamDyer.csv\n"
       ]
      }
     ],
     "prompt_number": 103
    },
    {
     "cell_type": "markdown",
     "metadata": {},
     "source": [
      "# Get the scoreboard"
     ]
    },
    {
     "cell_type": "code",
     "collapsed": false,
     "input": [
      "from operator import itemgetter"
     ],
     "language": "python",
     "metadata": {},
     "outputs": [],
     "prompt_number": 104
    },
    {
     "cell_type": "code",
     "collapsed": false,
     "input": [
      "all_scores = {}\n",
      "for bracket in all_brackets.itervalues():\n",
      "    k = '{} ({})'.format(bracket.name, bracket.realname)\n",
      "    all_scores[k] = bracket.score"
     ],
     "language": "python",
     "metadata": {},
     "outputs": [],
     "prompt_number": 105
    },
    {
     "cell_type": "code",
     "collapsed": false,
     "input": [
      "scorelist = sorted(all_scores.iteritems(), key=itemgetter(1), reverse=True)"
     ],
     "language": "python",
     "metadata": {},
     "outputs": [],
     "prompt_number": 106
    },
    {
     "cell_type": "code",
     "collapsed": false,
     "input": [
      "for n,s in scorelist: \n",
      "    print \"{} : {}\".format(n,s)"
     ],
     "language": "python",
     "metadata": {},
     "outputs": [
      {
       "output_type": "stream",
       "stream": "stdout",
       "text": [
        "Double D (David Dunlop) : 74\n",
        "Dan Morris (Dan Morris) : 69\n",
        "Lionel Messi's PED Examiner (Matt Frantz) : 69\n",
        "Alex Barlow (Alex Barlow) : 68\n",
        "NostrADAMus (Adam Dyer) : 66\n",
        "Fiscal_Responsibility (Amer Handan) : 64\n",
        "Aman (Aman Ahuja) : 64\n",
        "Pick from Downtown (Chris Brown) : 62\n",
        "Game of Balls (Michal Klos) : 62\n",
        "Anya (Anya) : 61\n",
        "Dutch Rudder (Eli Menaker) : 60\n",
        "Rumo ao hexa (Arian Lalezari) : 59\n",
        "Farzin (Farzin Lalezari) : 58\n",
        "MoGag might win (Monica Gagnon) : 56\n",
        "Dusty (Dusty) : 54\n",
        "Ft. Lauderdale Strikers 4 Life (Sam) : 53\n",
        "The \"Ultimate\" World Cup! (Darren Mace) : 53\n",
        "Onne (David Onne) : 51\n",
        "Shir (Shireen Garrow) : 51\n",
        "Djtmorley (David Morley) : 51\n",
        "Nate the Great (Nate) : 50\n",
        "Tiff (Tiffany Ann Fields) : 49\n",
        "mehmattski (Matt Johnson) : 45\n",
        "Slap (Manisha Daryani) : 45\n",
        "Yaffe (Daniel Yaffe) : 44\n",
        "Bosnia4Lyfe (Sandy Nader) : 42\n",
        "RGarrow (Robert Garrow) : 39\n",
        "AshLalezari (Ashley Lalezari) : 39\n"
       ]
      }
     ],
     "prompt_number": 107
    },
    {
     "cell_type": "code",
     "collapsed": false,
     "input": [
      "import pandas as pd"
     ],
     "language": "python",
     "metadata": {},
     "outputs": [],
     "prompt_number": 108
    },
    {
     "cell_type": "code",
     "collapsed": false,
     "input": [
      "s = pd.Series(list(all_scores.viewvalues()))"
     ],
     "language": "python",
     "metadata": {},
     "outputs": [],
     "prompt_number": 109
    },
    {
     "cell_type": "code",
     "collapsed": false,
     "input": [
      "s.plot(kind='kde', bw_method=.2)"
     ],
     "language": "python",
     "metadata": {},
     "outputs": [
      {
       "metadata": {},
       "output_type": "pyout",
       "prompt_number": 120,
       "text": [
        "<matplotlib.axes.AxesSubplot at 0x5405d50>"
       ]
      },
      {
       "metadata": {},
       "output_type": "display_data",
       "png": "[encoded data removed]",
       "text": [
        "<matplotlib.figure.Figure at 0x4b74910>"
       ]
      }
     ],
     "prompt_number": 120
    },
    {
     "cell_type": "code",
     "collapsed": false,
     "input": [
      "from datetime import datetime"
     ],
     "language": "python",
     "metadata": {},
     "outputs": [],
     "prompt_number": 121
    },
    {
     "cell_type": "code",
     "collapsed": false,
     "input": [
      "s.hist(bins=15)\n",
      "ylim(0,5)\n",
      "title('Distribution of Scores (histogram)\\n{:%b %d, %Y}'.format(datetime.today()))\n",
      "xlabel('Score')\n",
      "ylabel('Count')"
     ],
     "language": "python",
     "metadata": {},
     "outputs": [
      {
       "metadata": {},
       "output_type": "pyout",
       "prompt_number": 136,
       "text": [
        "<matplotlib.text.Text at 0x5569450>"
       ]
      },
      {
       "metadata": {},
       "output_type": "display_data",
       "png": "[encoded data removed]",
       "text": [
        "<matplotlib.figure.Figure at 0x5994e10>"
       ]
      }
     ],
     "prompt_number": 136
    },
    {
     "cell_type": "markdown",
     "metadata": {},
     "source": [
      "# double checking results"
     ]
    },
    {
     "cell_type": "code",
     "collapsed": false,
     "input": [
      "with open(GROUP_RANK_FILE) as infile:\n",
      "    rr = json.loads(infile.read())\n",
      "\n",
      "rr"
     ],
     "language": "python",
     "metadata": {},
     "outputs": [
      {
       "metadata": {},
       "output_type": "pyout",
       "prompt_number": 112,
       "text": [
        "{'A': ['Brazil', 'Mexico', 'Croatia', 'Cameroon'],\n",
        " 'B': ['Netherlands', 'Chile', 'Spain', 'Australia'],\n",
        " 'C': ['Colombia', 'Greece', 'Ivory Coast', 'Japan'],\n",
        " 'D': ['Costa Rica', 'Uruguay', 'Italy', 'England'],\n",
        " 'E': ['France', 'Switzerland', 'Ecuador', 'Honduras'],\n",
        " 'F': ['Argentina', 'Nigeria', 'Bosnia-Herzegovina', 'Iran'],\n",
        " 'G': ['Germany', 'United States', 'Portugal', 'Ghana'],\n",
        " 'H': ['Belgium', 'Algeria', 'Russia', 'South Korea']}"
       ]
      }
     ],
     "prompt_number": 112
    },
    {
     "cell_type": "code",
     "collapsed": false,
     "input": [
      "ibracket.group_rankings"
     ],
     "language": "python",
     "metadata": {},
     "outputs": [
      {
       "metadata": {},
       "output_type": "pyout",
       "prompt_number": 113,
       "text": [
        "{'A': ['Brazil', 'Croatia', 'Mexico', 'Cameroon'],\n",
        " 'B': ['Spain', 'Netherlands', 'Chile', 'Australia'],\n",
        " 'C': ['Colombia', 'Ivory Coast', 'Greece', 'Japan'],\n",
        " 'D': ['Uruguay', 'Italy', 'England', 'Costa Rica'],\n",
        " 'E': ['France', 'Ecuador', 'Switzerland', 'Honduras'],\n",
        " 'F': ['Argentina', 'Nigeria', 'Bosnia-Herzegovina', 'Iran'],\n",
        " 'G': ['Germany', 'United States', 'Ghana', 'Portugal'],\n",
        " 'H': ['Belgium', 'Algeria', 'Russia', 'South Korea']}"
       ]
      }
     ],
     "prompt_number": 113
    },
    {
     "cell_type": "code",
     "collapsed": false,
     "input": [
      "for group in rr: \n",
      "    print rr[group]\n",
      "    print ibracket.group_rankings[group]\n",
      "    print '-'*10"
     ],
     "language": "python",
     "metadata": {},
     "outputs": [
      {
       "output_type": "stream",
       "stream": "stdout",
       "text": [
        "['Brazil', 'Mexico', 'Croatia', 'Cameroon']\n",
        "['Brazil', 'Croatia', 'Mexico', 'Cameroon']\n",
        "----------\n",
        "['Colombia', 'Greece', 'Ivory Coast', 'Japan']\n",
        "['Colombia', 'Ivory Coast', 'Greece', 'Japan']\n",
        "----------\n",
        "['Netherlands', 'Chile', 'Spain', 'Australia']\n",
        "['Spain', 'Netherlands', 'Chile', 'Australia']\n",
        "----------\n",
        "['France', 'Switzerland', 'Ecuador', 'Honduras']\n",
        "['France', 'Ecuador', 'Switzerland', 'Honduras']\n",
        "----------\n",
        "['Costa Rica', 'Uruguay', 'Italy', 'England']\n",
        "['Uruguay', 'Italy', 'England', 'Costa Rica']\n",
        "----------\n",
        "['Germany', 'United States', 'Portugal', 'Ghana']\n",
        "['Germany', 'United States', 'Ghana', 'Portugal']\n",
        "----------\n",
        "['Argentina', 'Nigeria', 'Bosnia-Herzegovina', 'Iran']\n",
        "['Argentina', 'Nigeria', 'Bosnia-Herzegovina', 'Iran']\n",
        "----------\n",
        "['Belgium', 'Algeria', 'Russia', 'South Korea']\n",
        "['Belgium', 'Algeria', 'Russia', 'South Korea']\n",
        "----------\n"
       ]
      }
     ],
     "prompt_number": 114
    },
    {
     "cell_type": "code",
     "collapsed": false,
     "input": [
      "print ibracket.score1\n",
      "print ibracket.score2\n",
      "print ibracket.score3"
     ],
     "language": "python",
     "metadata": {},
     "outputs": [
      {
       "output_type": "stream",
       "stream": "stdout",
       "text": [
        "22\n",
        "34\n",
        "10\n"
       ]
      }
     ],
     "prompt_number": 115
    },
    {
     "cell_type": "code",
     "collapsed": false,
     "input": [
      "dyer_score2 = (\n",
      "2 + 0 + 0 + 2 +  \n",
      "0 + 0 + 0 + 2 +\n",
      "2 + 0 + 0 + 2 + \n",
      "0 + 0 + 0 + 0 +\n",
      "\n",
      "2 + 0 + 0 + 2 +\n",
      "2 + 2 + 2 + 2 +\n",
      "2 + 2 + 0 + 0 +\n",
      "2 + 2 + 2 + 2\n",
      ")\n",
      "print dyer_score2"
     ],
     "language": "python",
     "metadata": {},
     "outputs": [
      {
       "output_type": "stream",
       "stream": "stdout",
       "text": [
        "34\n"
       ]
      }
     ],
     "prompt_number": 117
    },
    {
     "cell_type": "code",
     "collapsed": false,
     "input": [],
     "language": "python",
     "metadata": {},
     "outputs": []
    }
   ],
   "metadata": {}
  }
 ]
}