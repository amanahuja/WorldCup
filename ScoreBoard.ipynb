{
 "metadata": {
  "name": "",
  "signature": "sha256:0b4f601eb1f012e0fd0d637f26af31dcfe129c58a02b4fab3e01c19c6d5f83bb"
 },
 "nbformat": 3,
 "nbformat_minor": 0,
 "worksheets": [
  {
   "cells": [
    {
     "cell_type": "code",
     "collapsed": false,
     "input": [
      "import os\n",
      "from bracket import Bracket"
     ],
     "language": "python",
     "metadata": {},
     "outputs": [],
     "prompt_number": 1
    },
    {
     "cell_type": "code",
     "collapsed": false,
     "input": [
      "INPUT_DIR = os.path.join('submissions', 'csv')"
     ],
     "language": "python",
     "metadata": {},
     "outputs": [],
     "prompt_number": 2
    },
    {
     "cell_type": "code",
     "collapsed": false,
     "input": [
      "file_names = os.listdir(INPUT_DIR)"
     ],
     "language": "python",
     "metadata": {},
     "outputs": [],
     "prompt_number": 3
    },
    {
     "cell_type": "code",
     "collapsed": false,
     "input": [
      "import bracket\n",
      "reload(bracket)\n",
      "from bracket import Bracket"
     ],
     "language": "python",
     "metadata": {},
     "outputs": [],
     "prompt_number": 4
    },
    {
     "cell_type": "markdown",
     "metadata": {},
     "source": [
      "# get all the brackets"
     ]
    },
    {
     "cell_type": "code",
     "collapsed": false,
     "input": [
      "file_names = os.listdir(INPUT_DIR)"
     ],
     "language": "python",
     "metadata": {},
     "outputs": [],
     "prompt_number": 5
    },
    {
     "cell_type": "code",
     "collapsed": false,
     "input": [
      "all_brackets = {}\n",
      "for ifile in file_names: \n",
      "    print 'processing ', ifile\n",
      "    fname = os.path.join(INPUT_DIR, ifile)\n",
      "    bracket = Bracket(fname)\n",
      "    all_brackets[ifile] = bracket\n"
     ],
     "language": "python",
     "metadata": {},
     "outputs": [
      {
       "output_type": "stream",
       "stream": "stdout",
       "text": [
        "processing  DanMorris.csv\n",
        "processing  DavidDunlop.csv\n",
        "processing  DanielYaffe.csv\n",
        "processing "
       ]
      },
      {
       "output_type": "stream",
       "stream": "stdout",
       "text": [
        " EliMenaker.csv\n",
        "processing  FarzinLalezari.csv\n",
        "processing  ArianLalezari.csv\n",
        "processing "
       ]
      },
      {
       "output_type": "stream",
       "stream": "stdout",
       "text": [
        " MattJohnson.csv\n",
        "processing  ChristopherBrown.csv\n",
        "processing  AmerHandan.csv\n",
        "processing "
       ]
      },
      {
       "output_type": "stream",
       "stream": "stdout",
       "text": [
        " MonicaGagnon.csv\n",
        "processing  MattFrantz.csv\n",
        "processing  TiffanyAnn.csv\n",
        "processing "
       ]
      },
      {
       "output_type": "stream",
       "stream": "stdout",
       "text": [
        " RobertGarrow.csv\n",
        "processing  MichaelBlackwell-Tompkins.csv\n",
        "processing  MichalKlos.csv\n",
        "processing "
       ]
      },
      {
       "output_type": "stream",
       "stream": "stdout",
       "text": [
        " AnyaKandel.csv\n",
        "processing  NateGagnon.csv\n",
        "processing  AshleyLalezari.csv\n",
        "processing "
       ]
      },
      {
       "output_type": "stream",
       "stream": "stdout",
       "text": [
        " DavidOnne.csv\n",
        "processing  AmanAhuja.csv\n",
        "processing  ManishaDaryani.csv\n",
        "processing "
       ]
      },
      {
       "output_type": "stream",
       "stream": "stdout",
       "text": [
        " DavidMorley.csv\n",
        "processing  SandyNader.csv\n",
        "processing  SamLouis.csv\n",
        "processing "
       ]
      },
      {
       "output_type": "stream",
       "stream": "stdout",
       "text": [
        " ShireenGarrow.csv\n",
        "processing  AlexBarlow.csv\n",
        "processing  DarrenMace.csv\n",
        "processing "
       ]
      },
      {
       "output_type": "stream",
       "stream": "stdout",
       "text": [
        " AdamDyer.csv\n"
       ]
      }
     ],
     "prompt_number": 6
    },
    {
     "cell_type": "markdown",
     "metadata": {},
     "source": [
      "# Get the scoreboard"
     ]
    },
    {
     "cell_type": "code",
     "collapsed": false,
     "input": [
      "from operator import itemgetter"
     ],
     "language": "python",
     "metadata": {},
     "outputs": [],
     "prompt_number": 7
    },
    {
     "cell_type": "code",
     "collapsed": false,
     "input": [
      "all_scores = {}\n",
      "for bracket in all_brackets.itervalues():\n",
      "    k = '{} ({})'.format(bracket.name, bracket.realname)\n",
      "    all_scores[k] = bracket.score"
     ],
     "language": "python",
     "metadata": {},
     "outputs": [],
     "prompt_number": 8
    },
    {
     "cell_type": "code",
     "collapsed": false,
     "input": [
      "scorelist = sorted(all_scores.iteritems(), key=itemgetter(1), reverse=True)"
     ],
     "language": "python",
     "metadata": {},
     "outputs": [],
     "prompt_number": 9
    },
    {
     "cell_type": "code",
     "collapsed": false,
     "input": [
      "for n,s in scorelist: \n",
      "    print \"{} : {}\".format(n,s)"
     ],
     "language": "python",
     "metadata": {},
     "outputs": [
      {
       "output_type": "stream",
       "stream": "stdout",
       "text": [
        "Fiscal_Responsibility (Amer Handan) : 27\n",
        "Pick from Downtown (Chris Brown) : 26\n",
        "Anya (Anya) : 26\n",
        "Game of Balls (Michal Klos) : 26\n",
        "Double D (David Dunlop) : 25\n",
        "Dutch Rudder (Eli Menaker) : 25\n",
        "Dan Morris (Dan Morris) : 24\n",
        "Lionel Messi's PED Examiner (Matt Frantz) : 24\n",
        "Aman (Aman Ahuja) : 23\n",
        "Rumo ao hexa (Arian Lalezari) : 23\n",
        "Nate the Great (Nate) : 23\n",
        "AshLalezari (Ashley Lalezari) : 23\n",
        "Djtmorley (David Morley) : 23\n",
        "Onne (David Onne) : 22\n",
        "Shir (Shireen Garrow) : 22\n",
        "Farzin (Farzin Lalezari) : 22\n",
        "The \"Ultimate\" World Cup! (Darren Mace) : 22\n",
        "Alex Barlow (Alex Barlow) : 22\n",
        "Tiff (Tiffany Ann Fields) : 22\n",
        "RGarrow (Robert Garrow) : 21\n",
        "MoGag might win (Monica Gagnon) : 21\n",
        "Yaffe (Daniel Yaffe) : 20\n",
        "Dusty (Dusty) : 20\n",
        "NostrADAMus (Adam Dyer) : 20\n",
        "Slap (Manisha Daryani) : 20\n",
        "Bosnia4Lyfe (Sandy Nader) : 19\n",
        "mehmattski (Matt Johnson) : 19\n",
        "Ft. Lauderdale Strikers 4 Life (Sam) : 16\n"
       ]
      }
     ],
     "prompt_number": 10
    },
    {
     "cell_type": "code",
     "collapsed": false,
     "input": [
      "import pandas as pd"
     ],
     "language": "python",
     "metadata": {},
     "outputs": [],
     "prompt_number": 11
    },
    {
     "cell_type": "code",
     "collapsed": false,
     "input": [
      "s = pd.Series(list(all_scores.viewvalues()))"
     ],
     "language": "python",
     "metadata": {},
     "outputs": [],
     "prompt_number": 12
    },
    {
     "cell_type": "code",
     "collapsed": false,
     "input": [
      "s.plot(kind='kde')"
     ],
     "language": "python",
     "metadata": {},
     "outputs": [
      {
       "metadata": {},
       "output_type": "pyout",
       "prompt_number": 13,
       "text": [
        "<matplotlib.axes.AxesSubplot at 0x3d70210>"
       ]
      },
      {
       "metadata": {},
       "output_type": "display_data",
       "png": "[encoded data removed]",
       "text": [
        "<matplotlib.figure.Figure at 0x3d2bbd0>"
       ]
      }
     ],
     "prompt_number": 13
    },
    {
     "cell_type": "code",
     "collapsed": false,
     "input": [
      "s.hist(bins=15)\n",
      "ylim(0,10)\n",
      "title('Distribution of Scores (histogram)\\nJune 25th, 2014')\n",
      "xlabel('Score')\n",
      "ylabel('Count')"
     ],
     "language": "python",
     "metadata": {},
     "outputs": [
      {
       "metadata": {},
       "output_type": "pyout",
       "prompt_number": 23,
       "text": [
        "<matplotlib.text.Text at 0x4fe99d0>"
       ]
      },
      {
       "metadata": {},
       "output_type": "display_data",
       "png": "[encoded data removed]",
       "text": [
        "<matplotlib.figure.Figure at 0x5485a50>"
       ]
      }
     ],
     "prompt_number": 23
    },
    {
     "cell_type": "code",
     "collapsed": false,
     "input": [],
     "language": "python",
     "metadata": {},
     "outputs": []
    }
   ],
   "metadata": {}
  }
 ]
}