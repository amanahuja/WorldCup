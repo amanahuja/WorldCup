{
 "metadata": {
  "name": "",
  "signature": "sha256:7bced1f84937687f0ab0f53f6ef51aebd6f9043dee68370bc0df42059bc823f0"
 },
 "nbformat": 3,
 "nbformat_minor": 0,
 "worksheets": [
  {
   "cells": [
    {
     "cell_type": "code",
     "collapsed": false,
     "input": [
      "import os\n",
      "from bracket import Bracket"
     ],
     "language": "python",
     "metadata": {},
     "outputs": [],
     "prompt_number": 2
    },
    {
     "cell_type": "code",
     "collapsed": false,
     "input": [
      "INPUT_DIR = os.path.join('submissions', 'csv')"
     ],
     "language": "python",
     "metadata": {},
     "outputs": [],
     "prompt_number": 3
    },
    {
     "cell_type": "code",
     "collapsed": false,
     "input": [
      "file_names = os.listdir(INPUT_DIR)"
     ],
     "language": "python",
     "metadata": {},
     "outputs": [],
     "prompt_number": 4
    },
    {
     "cell_type": "markdown",
     "metadata": {},
     "source": [
      "# Load brackets"
     ]
    },
    {
     "cell_type": "code",
     "collapsed": false,
     "input": [
      "file_names = os.listdir(INPUT_DIR)"
     ],
     "language": "python",
     "metadata": {},
     "outputs": [],
     "prompt_number": 19
    },
    {
     "cell_type": "code",
     "collapsed": false,
     "input": [
      "all_brackets = {}\n",
      "for ifile in file_names: \n",
      "    print 'processing ', ifile\n",
      "    fname = os.path.join(INPUT_DIR, ifile)\n",
      "    bracket = Bracket(fname)\n",
      "    all_brackets[ifile] = bracket\n"
     ],
     "language": "python",
     "metadata": {},
     "outputs": [
      {
       "output_type": "stream",
       "stream": "stdout",
       "text": [
        "processing  DanMorris.csv\n",
        "processing  DavidDunlop.csv\n",
        "processing "
       ]
      },
      {
       "output_type": "stream",
       "stream": "stdout",
       "text": [
        " DanielYaffe.csv\n",
        "processing  EliMenaker.csv\n",
        "processing "
       ]
      },
      {
       "output_type": "stream",
       "stream": "stdout",
       "text": [
        " FarzinLalezari.csv\n",
        "processing  ArianLalezari.csv\n",
        "processing  MattJohnson.csv\n",
        "processing "
       ]
      },
      {
       "output_type": "stream",
       "stream": "stdout",
       "text": [
        " ChristopherBrown.csv\n",
        "processing  AmerHandan.csv\n",
        "processing "
       ]
      },
      {
       "output_type": "stream",
       "stream": "stdout",
       "text": [
        " MonicaGagnon.csv\n",
        "processing  MattFrantz.csv\n",
        "processing "
       ]
      },
      {
       "output_type": "stream",
       "stream": "stdout",
       "text": [
        " TiffanyAnn.csv\n",
        "processing  RobertGarrow.csv\n",
        "processing "
       ]
      },
      {
       "output_type": "stream",
       "stream": "stdout",
       "text": [
        " MichaelBlackwell-Tompkins.csv\n",
        "processing  MichalKlos.csv\n",
        "processing "
       ]
      },
      {
       "output_type": "stream",
       "stream": "stdout",
       "text": [
        " AnyaKandel.csv\n",
        "processing  NateGagnon.csv\n",
        "processing "
       ]
      },
      {
       "output_type": "stream",
       "stream": "stdout",
       "text": [
        " AshleyLalezari.csv\n",
        "processing  DavidOnne.csv\n",
        "processing "
       ]
      },
      {
       "output_type": "stream",
       "stream": "stdout",
       "text": [
        " AmanAhuja.csv\n",
        "processing  ManishaDaryani.csv\n",
        "processing "
       ]
      },
      {
       "output_type": "stream",
       "stream": "stdout",
       "text": [
        " DavidMorley.csv\n",
        "processing  SandyNader.csv\n",
        "processing "
       ]
      },
      {
       "output_type": "stream",
       "stream": "stdout",
       "text": [
        " SamLouis.csv\n",
        "processing  ShireenGarrow.csv\n",
        "processing "
       ]
      },
      {
       "output_type": "stream",
       "stream": "stdout",
       "text": [
        " AlexBarlow.csv\n",
        "processing  DarrenMace.csv\n",
        "processing  AdamDyer.csv\n"
       ]
      }
     ],
     "prompt_number": 20
    },
    {
     "cell_type": "markdown",
     "metadata": {},
     "source": [
      "# Get Champions chosen"
     ]
    },
    {
     "cell_type": "code",
     "collapsed": false,
     "input": [
      "import pandas as pd"
     ],
     "language": "python",
     "metadata": {},
     "outputs": [],
     "prompt_number": 59
    },
    {
     "cell_type": "code",
     "collapsed": false,
     "input": [
      "final_picks = []\n",
      "for ifile, bracket in all_brackets.iteritems(): \n",
      "    final_picks += bracket.knockout_picks['1']"
     ],
     "language": "python",
     "metadata": {},
     "outputs": [],
     "prompt_number": 60
    },
    {
     "cell_type": "code",
     "collapsed": false,
     "input": [
      "from collections import Counter\n",
      "final_picks_counter = Counter(final_picks)\n",
      "print final_picks_counter"
     ],
     "language": "python",
     "metadata": {},
     "outputs": [
      {
       "output_type": "stream",
       "stream": "stdout",
       "text": [
        "Counter({'Brazil': 10, 'Germany': 7, 'Argentina': 5, 'Spain': 3, 'Netherlands': 1, 'Uruguay': 1, 'Switzerland': 1})\n"
       ]
      }
     ],
     "prompt_number": 61
    },
    {
     "cell_type": "code",
     "collapsed": false,
     "input": [
      "s = pd.Series (final_picks)\n",
      "final_picks_counter = s.value_counts()"
     ],
     "language": "python",
     "metadata": {},
     "outputs": [],
     "prompt_number": 62
    },
    {
     "cell_type": "code",
     "collapsed": false,
     "input": [
      "final_picks_counter.plot(kind='bar')\n",
      "title('Countries picked to win World Cup')"
     ],
     "language": "python",
     "metadata": {},
     "outputs": [
      {
       "metadata": {},
       "output_type": "pyout",
       "prompt_number": 64,
       "text": [
        "<matplotlib.text.Text at 0x4368950>"
       ]
      },
      {
       "metadata": {},
       "output_type": "display_data",
       "png": "[encoded data removed]",
       "text": [
        "<matplotlib.figure.Figure at 0x3e6f090>"
       ]
      }
     ],
     "prompt_number": 64
    },
    {
     "cell_type": "markdown",
     "metadata": {},
     "source": [
      "## Countries that will make the finals"
     ]
    },
    {
     "cell_type": "code",
     "collapsed": false,
     "input": [
      "semi_picks = []\n",
      "for ifile, bracket in all_brackets.iteritems(): \n",
      "    semi_picks += bracket.knockout_picks['2']"
     ],
     "language": "python",
     "metadata": {},
     "outputs": [],
     "prompt_number": 32
    },
    {
     "cell_type": "code",
     "collapsed": false,
     "input": [
      "semi_picks_counter = Counter(semi_picks)\n",
      "print semi_picks_counter"
     ],
     "language": "python",
     "metadata": {},
     "outputs": [
      {
       "output_type": "stream",
       "stream": "stdout",
       "text": [
        "Counter({'Brazil': 17, 'Argentina': 12, 'Spain': 10, 'Germany': 7, 'Netherlands': 3, 'Switzerland': 2, 'Italy': 1, 'Portugal': 1, 'Uruguay': 1, 'France': 1, 'Ivory Coast': 1})\n"
       ]
      }
     ],
     "prompt_number": 53
    },
    {
     "cell_type": "code",
     "collapsed": false,
     "input": [
      "s = pd.Series (semi_picks)"
     ],
     "language": "python",
     "metadata": {},
     "outputs": [],
     "prompt_number": 66
    },
    {
     "cell_type": "code",
     "collapsed": false,
     "input": [
      "semi_picks_counter = s.value_counts()\n",
      "#semi_picks_counter = semi_picks_counter.sort_index()"
     ],
     "language": "python",
     "metadata": {},
     "outputs": [],
     "prompt_number": 67
    },
    {
     "cell_type": "code",
     "collapsed": false,
     "input": [
      "semi_picks_counter.plot(kind='bar')\n",
      "title('Countries picked to reach finals')"
     ],
     "language": "python",
     "metadata": {},
     "outputs": [
      {
       "metadata": {},
       "output_type": "pyout",
       "prompt_number": 68,
       "text": [
        "<matplotlib.text.Text at 0x4576390>"
       ]
      },
      {
       "metadata": {},
       "output_type": "display_data",
       "png": "[encoded data removed]",
       "text": [
        "<matplotlib.figure.Figure at 0x4554c90>"
       ]
      }
     ],
     "prompt_number": 68
    },
    {
     "cell_type": "code",
     "collapsed": false,
     "input": [],
     "language": "python",
     "metadata": {},
     "outputs": []
    }
   ],
   "metadata": {}
  }
 ]
}